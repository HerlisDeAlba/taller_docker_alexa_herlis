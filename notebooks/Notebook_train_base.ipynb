{
 "cells": [
  {
   "cell_type": "code",
   "execution_count": 1,
   "id": "1bd4e65b-0bc5-4c43-bf03-364b10e70a26",
   "metadata": {
    "tags": []
   },
   "outputs": [],
   "source": [
    "# LIBRERIAS\n",
    "import pandas as pd\n",
    "import joblib as jl\n",
    "from fastapi import FastAPI\n",
    "from pydantic import BaseModel"
   ]
  },
  {
   "cell_type": "code",
   "execution_count": 2,
   "id": "1e872de5-2f68-4944-97b6-62e4b7bef3b0",
   "metadata": {
    "tags": []
   },
   "outputs": [],
   "source": [
    "# Esquema de datos de entrada\n",
    "class CustomerData(BaseModel):\n",
    "    age: float\n",
    "    gender: str\n",
    "    tenure: float\n",
    "    usage_frequency: float\n",
    "    support_calls: float\n",
    "    payment_delay: float\n",
    "    subscription_type: str\n",
    "    contract_length: str\n",
    "    total_spend: float\n",
    "    last_interaction: float"
   ]
  },
  {
   "cell_type": "code",
   "execution_count": null,
   "id": "623abfcf-edd3-4f0c-935e-e666c21f628d",
   "metadata": {
    "tags": []
   },
   "outputs": [],
   "source": [
    "model_path = 'models/modelo_churn.joblib'\n",
    "app = FastAPI()"
   ]
  },
  {
   "cell_type": "code",
   "execution_count": 7,
   "id": "12780b65-dc89-4312-88f8-839bfb482387",
   "metadata": {
    "tags": []
   },
   "outputs": [],
   "source": [
    "model = jl.load(model_path)"
   ]
  },
  {
   "cell_type": "code",
   "execution_count": 8,
   "id": "0f9599bf-c8f5-4274-9d89-b06e963bec74",
   "metadata": {
    "tags": []
   },
   "outputs": [],
   "source": [
    "# Endpoint de predicción\n",
    "\n",
    "@app.post(\"/predict/\")\n",
    "def model_prediction(payload: CustomerData):\n",
    "    # Convertir a DataFrame\n",
    "    df = pd.DataFrame([payload.dict()])\n",
    "\n",
    "    # Asegurar tipos correctos\n",
    "    df[\"age\"] = df[\"age\"].astype(float)\n",
    "    df[\"tenure\"] = df[\"tenure\"].astype(float)\n",
    "    df[\"usage_frequency\"] = df[\"usage_frequency\"].astype(float)\n",
    "    df[\"support_calls\"] = df[\"support_calls\"].astype(float)\n",
    "    df[\"payment_delay\"] = df[\"payment_delay\"].astype(float)\n",
    "    df[\"total_spend\"] = df[\"total_spend\"].astype(float)\n",
    "    df[\"last_interaction\"] = df[\"last_interaction\"].astype(float)\n",
    "    df[\"gender\"] = df[\"gender\"].astype(str)\n",
    "    df[\"subscription_type\"] = df[\"subscription_type\"].astype(str)\n",
    "    df[\"contract_length\"] = df[\"contract_length\"].astype(str)"
   ]
  }
 ],
 "metadata": {
  "environment": {
   "kernel": "conda-base-py",
   "name": "workbench-notebooks.m132",
   "type": "gcloud",
   "uri": "us-docker.pkg.dev/deeplearning-platform-release/gcr.io/workbench-notebooks:m132"
  },
  "kernelspec": {
   "display_name": "venv",
   "language": "python",
   "name": "python3"
  },
  "language_info": {
   "codemirror_mode": {
    "name": "ipython",
    "version": 3
   },
   "file_extension": ".py",
   "mimetype": "text/x-python",
   "name": "python",
   "nbconvert_exporter": "python",
   "pygments_lexer": "ipython3",
   "version": "3.13.3"
  }
 },
 "nbformat": 4,
 "nbformat_minor": 5
}
